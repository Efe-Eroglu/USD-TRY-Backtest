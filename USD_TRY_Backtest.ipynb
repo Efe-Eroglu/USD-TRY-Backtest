{
  "nbformat": 4,
  "nbformat_minor": 0,
  "metadata": {
    "colab": {
      "provenance": [],
      "authorship_tag": "ABX9TyPo8fubvs0GAdLlMHSY5Q4K"
    },
    "kernelspec": {
      "name": "python3",
      "display_name": "Python 3"
    },
    "language_info": {
      "name": "python"
    }
  },
  "cells": [
    {
      "cell_type": "code",
      "source": [
        "!pip install ta vectorbt"
      ],
      "metadata": {
        "colab": {
          "base_uri": "https://localhost:8080/"
        },
        "id": "3jwOpKI4fFzy",
        "outputId": "a1952a7b-652c-4c4b-ae07-3dc50479d044"
      },
      "execution_count": 1,
      "outputs": [
        {
          "output_type": "stream",
          "name": "stdout",
          "text": [
            "Requirement already satisfied: ta in /usr/local/lib/python3.10/dist-packages (0.11.0)\n",
            "Requirement already satisfied: vectorbt in /usr/local/lib/python3.10/dist-packages (0.26.1)\n",
            "Requirement already satisfied: numpy in /usr/local/lib/python3.10/dist-packages (from ta) (1.23.5)\n",
            "Requirement already satisfied: pandas in /usr/local/lib/python3.10/dist-packages (from ta) (2.0.3)\n",
            "Requirement already satisfied: scipy in /usr/local/lib/python3.10/dist-packages (from vectorbt) (1.11.4)\n",
            "Requirement already satisfied: matplotlib in /usr/local/lib/python3.10/dist-packages (from vectorbt) (3.7.1)\n",
            "Requirement already satisfied: plotly>=4.12.0 in /usr/local/lib/python3.10/dist-packages (from vectorbt) (5.15.0)\n",
            "Requirement already satisfied: ipywidgets>=7.0.0 in /usr/local/lib/python3.10/dist-packages (from vectorbt) (7.7.1)\n",
            "Requirement already satisfied: dill in /usr/local/lib/python3.10/dist-packages (from vectorbt) (0.3.8)\n",
            "Requirement already satisfied: tqdm in /usr/local/lib/python3.10/dist-packages (from vectorbt) (4.66.4)\n",
            "Requirement already satisfied: dateparser in /usr/local/lib/python3.10/dist-packages (from vectorbt) (1.2.0)\n",
            "Requirement already satisfied: imageio in /usr/local/lib/python3.10/dist-packages (from vectorbt) (2.31.6)\n",
            "Requirement already satisfied: scikit-learn in /usr/local/lib/python3.10/dist-packages (from vectorbt) (1.2.2)\n",
            "Requirement already satisfied: schedule in /usr/local/lib/python3.10/dist-packages (from vectorbt) (1.2.2)\n",
            "Requirement already satisfied: requests in /usr/local/lib/python3.10/dist-packages (from vectorbt) (2.31.0)\n",
            "Requirement already satisfied: pytz in /usr/local/lib/python3.10/dist-packages (from vectorbt) (2023.4)\n",
            "Requirement already satisfied: mypy-extensions in /usr/local/lib/python3.10/dist-packages (from vectorbt) (1.0.0)\n",
            "Requirement already satisfied: numba<0.57.0,>=0.56.0 in /usr/local/lib/python3.10/dist-packages (from vectorbt) (0.56.4)\n",
            "Requirement already satisfied: ipykernel>=4.5.1 in /usr/local/lib/python3.10/dist-packages (from ipywidgets>=7.0.0->vectorbt) (5.5.6)\n",
            "Requirement already satisfied: ipython-genutils~=0.2.0 in /usr/local/lib/python3.10/dist-packages (from ipywidgets>=7.0.0->vectorbt) (0.2.0)\n",
            "Requirement already satisfied: traitlets>=4.3.1 in /usr/local/lib/python3.10/dist-packages (from ipywidgets>=7.0.0->vectorbt) (5.7.1)\n",
            "Requirement already satisfied: widgetsnbextension~=3.6.0 in /usr/local/lib/python3.10/dist-packages (from ipywidgets>=7.0.0->vectorbt) (3.6.6)\n",
            "Requirement already satisfied: ipython>=4.0.0 in /usr/local/lib/python3.10/dist-packages (from ipywidgets>=7.0.0->vectorbt) (7.34.0)\n",
            "Requirement already satisfied: jupyterlab-widgets>=1.0.0 in /usr/local/lib/python3.10/dist-packages (from ipywidgets>=7.0.0->vectorbt) (3.0.11)\n",
            "Requirement already satisfied: llvmlite<0.40,>=0.39.0dev0 in /usr/local/lib/python3.10/dist-packages (from numba<0.57.0,>=0.56.0->vectorbt) (0.39.1)\n",
            "Requirement already satisfied: setuptools in /usr/local/lib/python3.10/dist-packages (from numba<0.57.0,>=0.56.0->vectorbt) (67.7.2)\n",
            "Requirement already satisfied: tenacity>=6.2.0 in /usr/local/lib/python3.10/dist-packages (from plotly>=4.12.0->vectorbt) (8.3.0)\n",
            "Requirement already satisfied: packaging in /usr/local/lib/python3.10/dist-packages (from plotly>=4.12.0->vectorbt) (24.0)\n",
            "Requirement already satisfied: python-dateutil in /usr/local/lib/python3.10/dist-packages (from dateparser->vectorbt) (2.8.2)\n",
            "Requirement already satisfied: regex!=2019.02.19,!=2021.8.27 in /usr/local/lib/python3.10/dist-packages (from dateparser->vectorbt) (2024.5.15)\n",
            "Requirement already satisfied: tzlocal in /usr/local/lib/python3.10/dist-packages (from dateparser->vectorbt) (5.2)\n",
            "Requirement already satisfied: pillow<10.1.0,>=8.3.2 in /usr/local/lib/python3.10/dist-packages (from imageio->vectorbt) (9.4.0)\n",
            "Requirement already satisfied: contourpy>=1.0.1 in /usr/local/lib/python3.10/dist-packages (from matplotlib->vectorbt) (1.2.1)\n",
            "Requirement already satisfied: cycler>=0.10 in /usr/local/lib/python3.10/dist-packages (from matplotlib->vectorbt) (0.12.1)\n",
            "Requirement already satisfied: fonttools>=4.22.0 in /usr/local/lib/python3.10/dist-packages (from matplotlib->vectorbt) (4.52.4)\n",
            "Requirement already satisfied: kiwisolver>=1.0.1 in /usr/local/lib/python3.10/dist-packages (from matplotlib->vectorbt) (1.4.5)\n",
            "Requirement already satisfied: pyparsing>=2.3.1 in /usr/local/lib/python3.10/dist-packages (from matplotlib->vectorbt) (3.1.2)\n",
            "Requirement already satisfied: tzdata>=2022.1 in /usr/local/lib/python3.10/dist-packages (from pandas->ta) (2024.1)\n",
            "Requirement already satisfied: charset-normalizer<4,>=2 in /usr/local/lib/python3.10/dist-packages (from requests->vectorbt) (3.3.2)\n",
            "Requirement already satisfied: idna<4,>=2.5 in /usr/local/lib/python3.10/dist-packages (from requests->vectorbt) (3.7)\n",
            "Requirement already satisfied: urllib3<3,>=1.21.1 in /usr/local/lib/python3.10/dist-packages (from requests->vectorbt) (2.0.7)\n",
            "Requirement already satisfied: certifi>=2017.4.17 in /usr/local/lib/python3.10/dist-packages (from requests->vectorbt) (2024.2.2)\n",
            "Requirement already satisfied: joblib>=1.1.1 in /usr/local/lib/python3.10/dist-packages (from scikit-learn->vectorbt) (1.4.2)\n",
            "Requirement already satisfied: threadpoolctl>=2.0.0 in /usr/local/lib/python3.10/dist-packages (from scikit-learn->vectorbt) (3.5.0)\n",
            "Requirement already satisfied: jupyter-client in /usr/local/lib/python3.10/dist-packages (from ipykernel>=4.5.1->ipywidgets>=7.0.0->vectorbt) (6.1.12)\n",
            "Requirement already satisfied: tornado>=4.2 in /usr/local/lib/python3.10/dist-packages (from ipykernel>=4.5.1->ipywidgets>=7.0.0->vectorbt) (6.3.3)\n",
            "Requirement already satisfied: jedi>=0.16 in /usr/local/lib/python3.10/dist-packages (from ipython>=4.0.0->ipywidgets>=7.0.0->vectorbt) (0.19.1)\n",
            "Requirement already satisfied: decorator in /usr/local/lib/python3.10/dist-packages (from ipython>=4.0.0->ipywidgets>=7.0.0->vectorbt) (4.4.2)\n",
            "Requirement already satisfied: pickleshare in /usr/local/lib/python3.10/dist-packages (from ipython>=4.0.0->ipywidgets>=7.0.0->vectorbt) (0.7.5)\n",
            "Requirement already satisfied: prompt-toolkit!=3.0.0,!=3.0.1,<3.1.0,>=2.0.0 in /usr/local/lib/python3.10/dist-packages (from ipython>=4.0.0->ipywidgets>=7.0.0->vectorbt) (3.0.45)\n",
            "Requirement already satisfied: pygments in /usr/local/lib/python3.10/dist-packages (from ipython>=4.0.0->ipywidgets>=7.0.0->vectorbt) (2.16.1)\n",
            "Requirement already satisfied: backcall in /usr/local/lib/python3.10/dist-packages (from ipython>=4.0.0->ipywidgets>=7.0.0->vectorbt) (0.2.0)\n",
            "Requirement already satisfied: matplotlib-inline in /usr/local/lib/python3.10/dist-packages (from ipython>=4.0.0->ipywidgets>=7.0.0->vectorbt) (0.1.7)\n",
            "Requirement already satisfied: pexpect>4.3 in /usr/local/lib/python3.10/dist-packages (from ipython>=4.0.0->ipywidgets>=7.0.0->vectorbt) (4.9.0)\n",
            "Requirement already satisfied: six>=1.5 in /usr/local/lib/python3.10/dist-packages (from python-dateutil->dateparser->vectorbt) (1.16.0)\n",
            "Requirement already satisfied: notebook>=4.4.1 in /usr/local/lib/python3.10/dist-packages (from widgetsnbextension~=3.6.0->ipywidgets>=7.0.0->vectorbt) (6.5.5)\n",
            "Requirement already satisfied: parso<0.9.0,>=0.8.3 in /usr/local/lib/python3.10/dist-packages (from jedi>=0.16->ipython>=4.0.0->ipywidgets>=7.0.0->vectorbt) (0.8.4)\n",
            "Requirement already satisfied: jinja2 in /usr/local/lib/python3.10/dist-packages (from notebook>=4.4.1->widgetsnbextension~=3.6.0->ipywidgets>=7.0.0->vectorbt) (3.1.4)\n",
            "Requirement already satisfied: pyzmq<25,>=17 in /usr/local/lib/python3.10/dist-packages (from notebook>=4.4.1->widgetsnbextension~=3.6.0->ipywidgets>=7.0.0->vectorbt) (24.0.1)\n",
            "Requirement already satisfied: argon2-cffi in /usr/local/lib/python3.10/dist-packages (from notebook>=4.4.1->widgetsnbextension~=3.6.0->ipywidgets>=7.0.0->vectorbt) (23.1.0)\n",
            "Requirement already satisfied: jupyter-core>=4.6.1 in /usr/local/lib/python3.10/dist-packages (from notebook>=4.4.1->widgetsnbextension~=3.6.0->ipywidgets>=7.0.0->vectorbt) (5.7.2)\n",
            "Requirement already satisfied: nbformat in /usr/local/lib/python3.10/dist-packages (from notebook>=4.4.1->widgetsnbextension~=3.6.0->ipywidgets>=7.0.0->vectorbt) (5.10.4)\n",
            "Requirement already satisfied: nbconvert>=5 in /usr/local/lib/python3.10/dist-packages (from notebook>=4.4.1->widgetsnbextension~=3.6.0->ipywidgets>=7.0.0->vectorbt) (6.5.4)\n",
            "Requirement already satisfied: nest-asyncio>=1.5 in /usr/local/lib/python3.10/dist-packages (from notebook>=4.4.1->widgetsnbextension~=3.6.0->ipywidgets>=7.0.0->vectorbt) (1.6.0)\n",
            "Requirement already satisfied: Send2Trash>=1.8.0 in /usr/local/lib/python3.10/dist-packages (from notebook>=4.4.1->widgetsnbextension~=3.6.0->ipywidgets>=7.0.0->vectorbt) (1.8.3)\n",
            "Requirement already satisfied: terminado>=0.8.3 in /usr/local/lib/python3.10/dist-packages (from notebook>=4.4.1->widgetsnbextension~=3.6.0->ipywidgets>=7.0.0->vectorbt) (0.18.1)\n",
            "Requirement already satisfied: prometheus-client in /usr/local/lib/python3.10/dist-packages (from notebook>=4.4.1->widgetsnbextension~=3.6.0->ipywidgets>=7.0.0->vectorbt) (0.20.0)\n",
            "Requirement already satisfied: nbclassic>=0.4.7 in /usr/local/lib/python3.10/dist-packages (from notebook>=4.4.1->widgetsnbextension~=3.6.0->ipywidgets>=7.0.0->vectorbt) (1.1.0)\n",
            "Requirement already satisfied: ptyprocess>=0.5 in /usr/local/lib/python3.10/dist-packages (from pexpect>4.3->ipython>=4.0.0->ipywidgets>=7.0.0->vectorbt) (0.7.0)\n",
            "Requirement already satisfied: wcwidth in /usr/local/lib/python3.10/dist-packages (from prompt-toolkit!=3.0.0,!=3.0.1,<3.1.0,>=2.0.0->ipython>=4.0.0->ipywidgets>=7.0.0->vectorbt) (0.2.13)\n",
            "Requirement already satisfied: platformdirs>=2.5 in /usr/local/lib/python3.10/dist-packages (from jupyter-core>=4.6.1->notebook>=4.4.1->widgetsnbextension~=3.6.0->ipywidgets>=7.0.0->vectorbt) (4.2.2)\n",
            "Requirement already satisfied: notebook-shim>=0.2.3 in /usr/local/lib/python3.10/dist-packages (from nbclassic>=0.4.7->notebook>=4.4.1->widgetsnbextension~=3.6.0->ipywidgets>=7.0.0->vectorbt) (0.2.4)\n",
            "Requirement already satisfied: lxml in /usr/local/lib/python3.10/dist-packages (from nbconvert>=5->notebook>=4.4.1->widgetsnbextension~=3.6.0->ipywidgets>=7.0.0->vectorbt) (4.9.4)\n",
            "Requirement already satisfied: beautifulsoup4 in /usr/local/lib/python3.10/dist-packages (from nbconvert>=5->notebook>=4.4.1->widgetsnbextension~=3.6.0->ipywidgets>=7.0.0->vectorbt) (4.12.3)\n",
            "Requirement already satisfied: bleach in /usr/local/lib/python3.10/dist-packages (from nbconvert>=5->notebook>=4.4.1->widgetsnbextension~=3.6.0->ipywidgets>=7.0.0->vectorbt) (6.1.0)\n",
            "Requirement already satisfied: defusedxml in /usr/local/lib/python3.10/dist-packages (from nbconvert>=5->notebook>=4.4.1->widgetsnbextension~=3.6.0->ipywidgets>=7.0.0->vectorbt) (0.7.1)\n",
            "Requirement already satisfied: entrypoints>=0.2.2 in /usr/local/lib/python3.10/dist-packages (from nbconvert>=5->notebook>=4.4.1->widgetsnbextension~=3.6.0->ipywidgets>=7.0.0->vectorbt) (0.4)\n",
            "Requirement already satisfied: jupyterlab-pygments in /usr/local/lib/python3.10/dist-packages (from nbconvert>=5->notebook>=4.4.1->widgetsnbextension~=3.6.0->ipywidgets>=7.0.0->vectorbt) (0.3.0)\n",
            "Requirement already satisfied: MarkupSafe>=2.0 in /usr/local/lib/python3.10/dist-packages (from nbconvert>=5->notebook>=4.4.1->widgetsnbextension~=3.6.0->ipywidgets>=7.0.0->vectorbt) (2.1.5)\n",
            "Requirement already satisfied: mistune<2,>=0.8.1 in /usr/local/lib/python3.10/dist-packages (from nbconvert>=5->notebook>=4.4.1->widgetsnbextension~=3.6.0->ipywidgets>=7.0.0->vectorbt) (0.8.4)\n",
            "Requirement already satisfied: nbclient>=0.5.0 in /usr/local/lib/python3.10/dist-packages (from nbconvert>=5->notebook>=4.4.1->widgetsnbextension~=3.6.0->ipywidgets>=7.0.0->vectorbt) (0.10.0)\n",
            "Requirement already satisfied: pandocfilters>=1.4.1 in /usr/local/lib/python3.10/dist-packages (from nbconvert>=5->notebook>=4.4.1->widgetsnbextension~=3.6.0->ipywidgets>=7.0.0->vectorbt) (1.5.1)\n",
            "Requirement already satisfied: tinycss2 in /usr/local/lib/python3.10/dist-packages (from nbconvert>=5->notebook>=4.4.1->widgetsnbextension~=3.6.0->ipywidgets>=7.0.0->vectorbt) (1.3.0)\n",
            "Requirement already satisfied: fastjsonschema>=2.15 in /usr/local/lib/python3.10/dist-packages (from nbformat->notebook>=4.4.1->widgetsnbextension~=3.6.0->ipywidgets>=7.0.0->vectorbt) (2.19.1)\n",
            "Requirement already satisfied: jsonschema>=2.6 in /usr/local/lib/python3.10/dist-packages (from nbformat->notebook>=4.4.1->widgetsnbextension~=3.6.0->ipywidgets>=7.0.0->vectorbt) (4.19.2)\n",
            "Requirement already satisfied: argon2-cffi-bindings in /usr/local/lib/python3.10/dist-packages (from argon2-cffi->notebook>=4.4.1->widgetsnbextension~=3.6.0->ipywidgets>=7.0.0->vectorbt) (21.2.0)\n",
            "Requirement already satisfied: attrs>=22.2.0 in /usr/local/lib/python3.10/dist-packages (from jsonschema>=2.6->nbformat->notebook>=4.4.1->widgetsnbextension~=3.6.0->ipywidgets>=7.0.0->vectorbt) (23.2.0)\n",
            "Requirement already satisfied: jsonschema-specifications>=2023.03.6 in /usr/local/lib/python3.10/dist-packages (from jsonschema>=2.6->nbformat->notebook>=4.4.1->widgetsnbextension~=3.6.0->ipywidgets>=7.0.0->vectorbt) (2023.12.1)\n",
            "Requirement already satisfied: referencing>=0.28.4 in /usr/local/lib/python3.10/dist-packages (from jsonschema>=2.6->nbformat->notebook>=4.4.1->widgetsnbextension~=3.6.0->ipywidgets>=7.0.0->vectorbt) (0.35.1)\n",
            "Requirement already satisfied: rpds-py>=0.7.1 in /usr/local/lib/python3.10/dist-packages (from jsonschema>=2.6->nbformat->notebook>=4.4.1->widgetsnbextension~=3.6.0->ipywidgets>=7.0.0->vectorbt) (0.18.1)\n",
            "Requirement already satisfied: jupyter-server<3,>=1.8 in /usr/local/lib/python3.10/dist-packages (from notebook-shim>=0.2.3->nbclassic>=0.4.7->notebook>=4.4.1->widgetsnbextension~=3.6.0->ipywidgets>=7.0.0->vectorbt) (1.24.0)\n",
            "Requirement already satisfied: cffi>=1.0.1 in /usr/local/lib/python3.10/dist-packages (from argon2-cffi-bindings->argon2-cffi->notebook>=4.4.1->widgetsnbextension~=3.6.0->ipywidgets>=7.0.0->vectorbt) (1.16.0)\n",
            "Requirement already satisfied: soupsieve>1.2 in /usr/local/lib/python3.10/dist-packages (from beautifulsoup4->nbconvert>=5->notebook>=4.4.1->widgetsnbextension~=3.6.0->ipywidgets>=7.0.0->vectorbt) (2.5)\n",
            "Requirement already satisfied: webencodings in /usr/local/lib/python3.10/dist-packages (from bleach->nbconvert>=5->notebook>=4.4.1->widgetsnbextension~=3.6.0->ipywidgets>=7.0.0->vectorbt) (0.5.1)\n",
            "Requirement already satisfied: pycparser in /usr/local/lib/python3.10/dist-packages (from cffi>=1.0.1->argon2-cffi-bindings->argon2-cffi->notebook>=4.4.1->widgetsnbextension~=3.6.0->ipywidgets>=7.0.0->vectorbt) (2.22)\n",
            "Requirement already satisfied: anyio<4,>=3.1.0 in /usr/local/lib/python3.10/dist-packages (from jupyter-server<3,>=1.8->notebook-shim>=0.2.3->nbclassic>=0.4.7->notebook>=4.4.1->widgetsnbextension~=3.6.0->ipywidgets>=7.0.0->vectorbt) (3.7.1)\n",
            "Requirement already satisfied: websocket-client in /usr/local/lib/python3.10/dist-packages (from jupyter-server<3,>=1.8->notebook-shim>=0.2.3->nbclassic>=0.4.7->notebook>=4.4.1->widgetsnbextension~=3.6.0->ipywidgets>=7.0.0->vectorbt) (1.8.0)\n",
            "Requirement already satisfied: sniffio>=1.1 in /usr/local/lib/python3.10/dist-packages (from anyio<4,>=3.1.0->jupyter-server<3,>=1.8->notebook-shim>=0.2.3->nbclassic>=0.4.7->notebook>=4.4.1->widgetsnbextension~=3.6.0->ipywidgets>=7.0.0->vectorbt) (1.3.1)\n",
            "Requirement already satisfied: exceptiongroup in /usr/local/lib/python3.10/dist-packages (from anyio<4,>=3.1.0->jupyter-server<3,>=1.8->notebook-shim>=0.2.3->nbclassic>=0.4.7->notebook>=4.4.1->widgetsnbextension~=3.6.0->ipywidgets>=7.0.0->vectorbt) (1.2.1)\n"
          ]
        }
      ]
    },
    {
      "cell_type": "markdown",
      "source": [
        "# Veri & Kütüphaneler"
      ],
      "metadata": {
        "id": "0P10TOmim676"
      }
    },
    {
      "cell_type": "code",
      "source": [
        "import yfinance as yf\n",
        "import vectorbt as vbt\n",
        "import pandas as pd\n",
        "import itertools\n",
        "import ta\n",
        "import numpy as np"
      ],
      "metadata": {
        "id": "O32QTrhmmb7Q"
      },
      "execution_count": 2,
      "outputs": []
    },
    {
      "cell_type": "code",
      "source": [
        "symbol = 'USDTRY=X'\n",
        "data = yf.download(symbol)\n",
        "\n",
        "close = data['Close']"
      ],
      "metadata": {
        "colab": {
          "base_uri": "https://localhost:8080/"
        },
        "id": "3A7FT4rrmb5T",
        "outputId": "b41bbb5c-50b5-4aea-e087-1b906ee88ca9"
      },
      "execution_count": 3,
      "outputs": [
        {
          "output_type": "stream",
          "name": "stderr",
          "text": [
            "\r[*********************100%%**********************]  1 of 1 completed\n"
          ]
        }
      ]
    },
    {
      "cell_type": "markdown",
      "source": [
        "# MA"
      ],
      "metadata": {
        "id": "-JaulSV9mgEz"
      }
    },
    {
      "cell_type": "code",
      "source": [
        "ma3 = close.rolling(window=3).mean()\n",
        "ma5 = close.rolling(window=5).mean()\n",
        "ma10 = close.rolling(window=10).mean()\n",
        "ma20 = close.rolling(window=20).mean()\n",
        "ma30 = close.rolling(window=30).mean()\n",
        "ma50 = close.rolling(window=50).mean()\n",
        "ma100 = close.rolling(window=100).mean()\n",
        "ma200 = close.rolling(window=200).mean()\n",
        "\n",
        "entries_exits = [\n",
        "    ('MA20 > MA50', ma20 > ma50, 'MA20 < MA50', ma20 < ma50),\n",
        "    ('MA50 > MA200', ma50 > ma200, 'MA50 < MA200', ma50 < ma200),\n",
        "    ('MA50 < MA200', ma50 < ma200, 'MA50 > MA200', ma50 > ma200),\n",
        "    ('MA3 < MA5', ma3 < ma5, 'MA3 > MA5', ma3 > ma5),\n",
        "    ('MA5 < MA10', ma5 < ma10, 'MA5 > MA10', ma5 > ma10),\n",
        "    ('MA10 < MA20', ma10 < ma20, 'MA10 > MA20', ma10 > ma20),\n",
        "    ('MA30 < MA50', ma30 < ma50, 'MA30 > MA50', ma30 > ma50),\n",
        "    ('MA50 < MA100', ma50 < ma100, 'MA50 > MA100', ma50 > ma100),\n",
        "]"
      ],
      "metadata": {
        "id": "Xp5jprf7mb3I"
      },
      "execution_count": 4,
      "outputs": []
    },
    {
      "cell_type": "markdown",
      "source": [
        "# RSI"
      ],
      "metadata": {
        "id": "n2ej4Bq_mnLD"
      }
    },
    {
      "cell_type": "code",
      "source": [
        "rsi_indicator = ta.momentum.RSIIndicator(close, window=14)\n",
        "rsi = rsi_indicator.rsi()\n",
        "entries_exits.append(('RSI < 30', rsi < 30, 'RSI > 70', rsi > 70))"
      ],
      "metadata": {
        "id": "n748LmrYmb1C"
      },
      "execution_count": 5,
      "outputs": []
    },
    {
      "cell_type": "markdown",
      "source": [
        "# RSI + MA"
      ],
      "metadata": {
        "id": "n2idq6WOmqyJ"
      }
    },
    {
      "cell_type": "code",
      "source": [
        "entries_exits.append(('MA20 > MA50 & RSI < 30', (ma20 > ma50) & (rsi < 30), 'MA20 < MA50 | RSI > 70', (ma20 < ma50) | (rsi > 70)))"
      ],
      "metadata": {
        "id": "L4g22DTVmbzB"
      },
      "execution_count": 6,
      "outputs": []
    },
    {
      "cell_type": "markdown",
      "source": [
        "# MACD"
      ],
      "metadata": {
        "id": "57VHt0UZmv1K"
      }
    },
    {
      "cell_type": "code",
      "source": [
        "macd_indicator = ta.trend.MACD(close)\n",
        "macd = macd_indicator.macd()\n",
        "signal = macd_indicator.macd_signal()\n",
        "entries_exits.append(('MACD > Signal', macd > signal, 'MACD < Signal', macd < signal))"
      ],
      "metadata": {
        "id": "9HdSrmGLmbw4"
      },
      "execution_count": 7,
      "outputs": []
    },
    {
      "cell_type": "markdown",
      "source": [
        "# MACD + RSI"
      ],
      "metadata": {
        "id": "5cAePtiomzF5"
      }
    },
    {
      "cell_type": "code",
      "source": [
        "entries_exits.append(('MACD > Signal & RSI < 30', (macd > signal) & (rsi < 30), 'MACD < Signal & RSI > 70', (macd < signal) & (rsi > 70)))"
      ],
      "metadata": {
        "id": "XfHmWQy4mbu4"
      },
      "execution_count": 8,
      "outputs": []
    },
    {
      "cell_type": "markdown",
      "source": [
        "# Bollinger Bandı"
      ],
      "metadata": {
        "id": "GRvFHRiFnDOw"
      }
    },
    {
      "cell_type": "code",
      "source": [
        "bb_indicator = ta.volatility.BollingerBands(close, window=20, window_dev=2)\n",
        "bb_high = bb_indicator.bollinger_hband()\n",
        "bb_low = bb_indicator.bollinger_lband()\n",
        "entries_exits.append(('Close < BB Low', close < bb_low, 'Close > BB High', close > bb_high))"
      ],
      "metadata": {
        "id": "xmtAid_Cmbs5"
      },
      "execution_count": 9,
      "outputs": []
    },
    {
      "cell_type": "markdown",
      "source": [
        "# Ichimoku Bulutu"
      ],
      "metadata": {
        "id": "rORJbgnvnF5p"
      }
    },
    {
      "cell_type": "code",
      "source": [
        "ichimoku = ta.trend.IchimokuIndicator(data['High'], data['Low'], window1=9, window2=26, window3=52)\n",
        "ichimoku_a = ichimoku.ichimoku_a()\n",
        "ichimoku_b = ichimoku.ichimoku_b()\n",
        "entries_exits.append(('Close > Ichimoku A', close > ichimoku_a, 'Close < Ichimoku B', close < ichimoku_b))"
      ],
      "metadata": {
        "id": "g6SVa1d_mbqw"
      },
      "execution_count": 10,
      "outputs": []
    },
    {
      "cell_type": "markdown",
      "source": [
        "# Stokastik Osilatör"
      ],
      "metadata": {
        "id": "GOmkmpIqnNEK"
      }
    },
    {
      "cell_type": "code",
      "source": [
        "stoch_k = ta.momentum.stoch(close, data['Low'], data['High'], window=14, smooth_window=3)\n",
        "stoch_d = stoch_k.rolling(window=3).mean()\n",
        "entries_exits.append(('Stoch K < 20', stoch_k < 20, 'Stoch K > 80', stoch_k > 80))\n",
        "entries_exits.append(('Stoch K > Stoch D', stoch_k > stoch_d, 'Stoch K < Stoch D', stoch_k < stoch_d))"
      ],
      "metadata": {
        "id": "qBdp0bWfmboh"
      },
      "execution_count": 11,
      "outputs": []
    },
    {
      "cell_type": "markdown",
      "source": [
        "# Parabolik SAR"
      ],
      "metadata": {
        "id": "qR9_eo5GnSNC"
      }
    },
    {
      "cell_type": "code",
      "source": [
        "psar = ta.trend.PSARIndicator(data['High'], data['Low'], close, step=0.02, max_step=0.2)\n",
        "entries_exits.append(('Close > PSAR', close > psar.psar(), 'Close < PSAR', close < psar.psar()))"
      ],
      "metadata": {
        "id": "c5a-8PP0nQ9K"
      },
      "execution_count": 12,
      "outputs": []
    },
    {
      "cell_type": "markdown",
      "source": [
        "# Etmenler"
      ],
      "metadata": {
        "id": "Q9XfIznenXTx"
      }
    },
    {
      "cell_type": "code",
      "source": [
        "init_cash = 1000\n",
        "stop_loss_values = np.arange(0.01,0.20,0.01)\n",
        "take_profit_values = np.arange(0.1, 1, 0.1)"
      ],
      "metadata": {
        "id": "vDjuDp_OnQ6y"
      },
      "execution_count": 13,
      "outputs": []
    },
    {
      "cell_type": "markdown",
      "source": [
        "# Kombinasyonların Denenmesi"
      ],
      "metadata": {
        "id": "Oxztyi3Inddp"
      }
    },
    {
      "cell_type": "code",
      "source": [
        "best_performance = None\n",
        "best_stats = None\n",
        "best_entries = None\n",
        "best_exits = None\n",
        "best_entries_name = None\n",
        "best_exits_name = None\n",
        "best_stop_loss = None\n",
        "best_take_profit = None\n",
        "\n",
        "for entry_name, entries, exit_name, exits in entries_exits:\n",
        "    for sl in stop_loss_values:\n",
        "        for tp in take_profit_values:\n",
        "            pf = vbt.Portfolio.from_signals(\n",
        "                close, entries, exits, init_cash=init_cash, sl_stop=sl, tp_stop=tp)\n",
        "            performance = pf.total_return()\n",
        "\n",
        "            if best_performance is None or performance > best_performance:\n",
        "                best_performance = performance\n",
        "                best_stats = pf.stats()\n",
        "                best_entries = entries\n",
        "                best_exits = exits\n",
        "                best_entries_name = entry_name\n",
        "                best_exits_name = exit_name\n",
        "                best_stop_loss = sl\n",
        "                best_take_profit = tp"
      ],
      "metadata": {
        "colab": {
          "base_uri": "https://localhost:8080/"
        },
        "id": "hO53cDP0nQ4g",
        "outputId": "633586c6-868d-4eba-ad35-1e89520a9eb1"
      },
      "execution_count": 14,
      "outputs": [
        {
          "output_type": "stream",
          "name": "stderr",
          "text": [
            "/usr/local/lib/python3.10/dist-packages/vectorbt/generic/stats_builder.py:396: UserWarning: Metric 'sharpe_ratio' requires frequency to be set\n",
            "  warnings.warn(warning_message)\n",
            "/usr/local/lib/python3.10/dist-packages/vectorbt/generic/stats_builder.py:396: UserWarning: Metric 'calmar_ratio' requires frequency to be set\n",
            "  warnings.warn(warning_message)\n",
            "/usr/local/lib/python3.10/dist-packages/vectorbt/generic/stats_builder.py:396: UserWarning: Metric 'omega_ratio' requires frequency to be set\n",
            "  warnings.warn(warning_message)\n",
            "/usr/local/lib/python3.10/dist-packages/vectorbt/generic/stats_builder.py:396: UserWarning: Metric 'sortino_ratio' requires frequency to be set\n",
            "  warnings.warn(warning_message)\n",
            "/usr/local/lib/python3.10/dist-packages/vectorbt/generic/stats_builder.py:396: UserWarning: Metric 'sharpe_ratio' requires frequency to be set\n",
            "  warnings.warn(warning_message)\n",
            "/usr/local/lib/python3.10/dist-packages/vectorbt/generic/stats_builder.py:396: UserWarning: Metric 'calmar_ratio' requires frequency to be set\n",
            "  warnings.warn(warning_message)\n",
            "/usr/local/lib/python3.10/dist-packages/vectorbt/generic/stats_builder.py:396: UserWarning: Metric 'omega_ratio' requires frequency to be set\n",
            "  warnings.warn(warning_message)\n",
            "/usr/local/lib/python3.10/dist-packages/vectorbt/generic/stats_builder.py:396: UserWarning: Metric 'sortino_ratio' requires frequency to be set\n",
            "  warnings.warn(warning_message)\n"
          ]
        }
      ]
    },
    {
      "cell_type": "markdown",
      "source": [
        "# İstatistikler"
      ],
      "metadata": {
        "id": "HoPWY0RNnofK"
      }
    },
    {
      "cell_type": "code",
      "source": [
        "print(\"En iyi performansı sağlayan strateji:\\n\")\n",
        "print(\"Giriş Sinyali:\", best_entries_name)\n",
        "print(\"Çıkış Sinyali:\", best_exits_name)\n",
        "print(\"\\nStop-Loss Değeri:\", best_stop_loss)\n",
        "print(\"Take-Profit Değeri:\", best_take_profit, \"\\n\")\n",
        "print(best_stats)\n",
        "\n",
        "pf = vbt.Portfolio.from_signals(\n",
        "    close, best_entries, best_exits, init_cash=init_cash, sl_stop=best_stop_loss, tp_stop=best_take_profit)"
      ],
      "metadata": {
        "colab": {
          "base_uri": "https://localhost:8080/"
        },
        "id": "gJ74hj4-nouh",
        "outputId": "81a342af-966e-4827-9692-abd128344f49"
      },
      "execution_count": 15,
      "outputs": [
        {
          "output_type": "stream",
          "name": "stdout",
          "text": [
            "En iyi performansı sağlayan strateji:\n",
            "\n",
            "Giriş Sinyali: Stoch K > Stoch D\n",
            "Çıkış Sinyali: Stoch K < Stoch D\n",
            "\n",
            "Stop-Loss Değeri: 0.04\n",
            "Take-Profit Değeri: 0.1 \n",
            "\n",
            "Start                         2005-01-03 00:00:00\n",
            "End                           2024-06-04 00:00:00\n",
            "Period                                       5052\n",
            "Start Value                                1000.0\n",
            "End Value                           428902.856252\n",
            "Total Return [%]                     42790.285625\n",
            "Benchmark Return [%]                  2311.741051\n",
            "Max Gross Exposure [%]                      100.0\n",
            "Total Fees Paid                               0.0\n",
            "Max Drawdown [%]                        11.074857\n",
            "Max Drawdown Duration                       439.0\n",
            "Total Trades                                  981\n",
            "Total Closed Trades                           980\n",
            "Total Open Trades                               1\n",
            "Open Trade PnL                                0.0\n",
            "Win Rate [%]                            64.693878\n",
            "Best Trade [%]                          28.422087\n",
            "Worst Trade [%]                         -3.884656\n",
            "Avg Winning Trade [%]                    1.370538\n",
            "Avg Losing Trade [%]                    -0.709885\n",
            "Avg Winning Trade Duration               2.709779\n",
            "Avg Losing Trade Duration                1.732558\n",
            "Profit Factor                             7.81751\n",
            "Expectancy                             436.263206\n",
            "dtype: object\n"
          ]
        }
      ]
    }
  ]
}